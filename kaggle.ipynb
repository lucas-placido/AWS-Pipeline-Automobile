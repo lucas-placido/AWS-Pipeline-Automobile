{
 "cells": [
  {
   "cell_type": "code",
   "execution_count": null,
   "metadata": {},
   "outputs": [],
   "source": [
    "# https://www.kaggle.com/datasets/tawfikelmetwally/automobile-dataset"
   ]
  },
  {
   "cell_type": "code",
   "execution_count": 1,
   "metadata": {},
   "outputs": [
    {
     "name": "stdout",
     "output_type": "stream",
     "text": [
      "Downloading automobile-dataset.zip to e:\\2023\\Lucas\\Projetos\\Projeto1\\data\\zip_data\n",
      "\n"
     ]
    },
    {
     "name": "stderr",
     "output_type": "stream",
     "text": [
      "\n",
      "  0%|          | 0.00/6.45k [00:00<?, ?B/s]\n",
      "100%|██████████| 6.45k/6.45k [00:00<00:00, 6.60MB/s]\n"
     ]
    }
   ],
   "source": [
    "import os\n",
    "from zipfile import ZipFile\n",
    "\n",
    "\n",
    "directory = os.getcwd()\n",
    "\n",
    "zip_data_folder = directory +  \"/data/zip_data/\"\n",
    "raw_data_folder = directory + \"/data/raw_data/\"\n",
    "\n",
    "# Create data folder if not exists\n",
    "os.makedirs(zip_data_folder, exist_ok=True)\n",
    "os.makedirs(raw_data_folder, exist_ok=True)\n",
    "\n",
    "os.chdir(zip_data_folder)\n",
    "\n",
    "# Download cars dataset\n",
    "!kaggle datasets download -d tawfikelmetwally/automobile-dataset\n",
    "\n",
    "file_name = os.listdir(zip_data_folder)[0]\n",
    "# Extract data from zipfile\n",
    "with ZipFile(zip_data_folder + file_name, 'r') as f:\n",
    "    f.extractall(raw_data_folder)"
   ]
  },
  {
   "cell_type": "code",
   "execution_count": null,
   "metadata": {},
   "outputs": [],
   "source": []
  }
 ],
 "metadata": {
  "kernelspec": {
   "display_name": "jupyter",
   "language": "python",
   "name": "python3"
  },
  "language_info": {
   "codemirror_mode": {
    "name": "ipython",
    "version": 3
   },
   "file_extension": ".py",
   "mimetype": "text/x-python",
   "name": "python",
   "nbconvert_exporter": "python",
   "pygments_lexer": "ipython3",
   "version": "3.8.10"
  },
  "orig_nbformat": 4
 },
 "nbformat": 4,
 "nbformat_minor": 2
}
